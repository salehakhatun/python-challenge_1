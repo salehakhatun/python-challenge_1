{
 "cells": [
  {
   "cell_type": "code",
   "execution_count": 1,
   "id": "89c73f94-5506-4f20-aaf0-43332384ee52",
   "metadata": {},
   "outputs": [],
   "source": [
    "#import dependency\n",
    "import os\n",
    "import csv\n",
    "csvpath = os.path.join('..', 'Resources', 'election_data.csv')"
   ]
  },
  {
   "cell_type": "code",
   "execution_count": 2,
   "id": "00a354b4-173b-4df4-ab54-ef0891da9911",
   "metadata": {},
   "outputs": [
    {
     "ename": "FileNotFoundError",
     "evalue": "[Errno 2] No such file or directory: '..\\\\Resources\\\\election_data.csv'",
     "output_type": "error",
     "traceback": [
      "\u001b[1;31m---------------------------------------------------------------------------\u001b[0m",
      "\u001b[1;31mFileNotFoundError\u001b[0m                         Traceback (most recent call last)",
      "\u001b[1;32m<ipython-input-2-4625bdb50e97>\u001b[0m in \u001b[0;36m<module>\u001b[1;34m\u001b[0m\n\u001b[0;32m     10\u001b[0m \u001b[1;33m\u001b[0m\u001b[0m\n\u001b[0;32m     11\u001b[0m \u001b[1;33m\u001b[0m\u001b[0m\n\u001b[1;32m---> 12\u001b[1;33m \u001b[1;32mwith\u001b[0m \u001b[0mopen\u001b[0m\u001b[1;33m(\u001b[0m\u001b[0mcsvpath\u001b[0m\u001b[1;33m,\u001b[0m \u001b[0mnewline\u001b[0m \u001b[1;33m=\u001b[0m \u001b[1;34m\"\"\u001b[0m\u001b[1;33m)\u001b[0m \u001b[1;32mas\u001b[0m \u001b[0mpypoll\u001b[0m\u001b[1;33m:\u001b[0m\u001b[1;33m\u001b[0m\u001b[1;33m\u001b[0m\u001b[0m\n\u001b[0m\u001b[0;32m     13\u001b[0m     \u001b[0mcsvreader\u001b[0m \u001b[1;33m=\u001b[0m \u001b[0mcsv\u001b[0m\u001b[1;33m.\u001b[0m\u001b[0mreader\u001b[0m\u001b[1;33m(\u001b[0m\u001b[0mpypoll\u001b[0m\u001b[1;33m,\u001b[0m \u001b[0mdelimiter\u001b[0m \u001b[1;33m=\u001b[0m \u001b[1;34m\",\"\u001b[0m\u001b[1;33m)\u001b[0m\u001b[1;33m\u001b[0m\u001b[1;33m\u001b[0m\u001b[0m\n\u001b[0;32m     14\u001b[0m \u001b[1;33m\u001b[0m\u001b[0m\n",
      "\u001b[1;31mFileNotFoundError\u001b[0m: [Errno 2] No such file or directory: '..\\\\Resources\\\\election_data.csv'"
     ]
    }
   ],
   "source": [
    "# List of Variables\n",
    "\n",
    "Voter = []\n",
    "County = []\n",
    "Candidate = []\n",
    "Name_Of_Candidate = {}\n",
    "Percent_Candidate = {}\n",
    "total_vote = 0\n",
    "winner = 0\n",
    "\n",
    "\n",
    "with open(csvpath, newline = \"\") as pypoll:\n",
    "    csvreader = csv.reader(pypoll, delimiter = \",\")\n",
    "\n",
    "    csv_header = next(csvreader)\n",
    "   \n",
    "    for row in csvreader:\n",
    "        \n",
    "        Voter.append(row[0])\n",
    "        County.append(row[1])\n",
    "        Candidate.append(row[2])\n",
    "       \n",
    "        total_vote = total_vote + 1\n",
    "        if row[2] in Name_Of_Candidate.keys():\n",
    "            Name_Of_Candidate[row[2]] = Name_Of_Candidate[row[2]] + 1\n",
    "        else:\n",
    "            Name_Of_Candidate[row[2]] = 1\n",
    "    \n",
    "    for row[2], value in Name_Of_Candidate.items():\n",
    "       \n",
    "        Percent_Candidate[row[2]] = format((value/total_number_vote) * 100, \".3f\")\n",
    "        \n",
    "        \n",
    "\n",
    "    for row[2] in Name_Of_Candidate.keys():\n",
    "        if Name_Of_Candidate[row[2]] > winner:\n",
    "            Winner = row[2]\n",
    "            winner = Name_Of_Candidate[row[2]]\n",
    "\n",
    "# print solutions\n",
    "\n",
    "    print(\"Election Results\")\n",
    "    print(\"------------------------------------\")\n",
    "    print(f\"Total Votes: {total_number_vote}\")\n",
    "    print(\"------------------------------------\")\n",
    "    for row[2], value in Name_Of_Candidate.items():\n",
    "        print(f\"{row[2]}: {Percent_Candidate[row[2]]}% ({int(value)})\")\n",
    "    print(\"------------------------------------\")\n",
    "    print(f\"Winner: {Winner}\")\n",
    "    print(\"------------------------------------\")\n",
    "\n",
    "# write pypoll in text\n",
    "\n",
    "with open(\"csvpath.text\", \"w\", newline = \"\") as text:\n",
    "    text.write(\"\\n\")\n",
    "    text.write(\"Election Results\\n\")\n",
    "    text.write(\"------------------------\\n\")\n",
    "    text.write(f\"Total Votes: {total_number_vote}\\n\")\n",
    "    text.write(\"------------------------------------\\n\")\n",
    "    for row[2], value in Name_Of_Candidate.items():\n",
    "        text.write(f\"{row[2]}: {Percent_Candidate[row[2]]}% ({int(value)})\\n\")\n",
    "    text.write(\"------------------------------------\\n\")\n",
    "    text.write(f\"Winner: {Winner}\\n\")\n",
    "    text.write(\"------------------------------------\\n\")"
   ]
  },
  {
   "cell_type": "code",
   "execution_count": null,
   "id": "d81f3013-005a-4f93-96db-23eefb1ac6b7",
   "metadata": {},
   "outputs": [],
   "source": []
  }
 ],
 "metadata": {
  "kernelspec": {
   "display_name": "Python 3",
   "language": "python",
   "name": "python3"
  },
  "language_info": {
   "codemirror_mode": {
    "name": "ipython",
    "version": 3
   },
   "file_extension": ".py",
   "mimetype": "text/x-python",
   "name": "python",
   "nbconvert_exporter": "python",
   "pygments_lexer": "ipython3",
   "version": "3.8.8"
  }
 },
 "nbformat": 4,
 "nbformat_minor": 5
}
