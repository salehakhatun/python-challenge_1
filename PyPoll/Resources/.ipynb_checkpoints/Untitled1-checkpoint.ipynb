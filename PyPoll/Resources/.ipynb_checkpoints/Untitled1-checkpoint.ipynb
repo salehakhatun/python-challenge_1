{
 "cells": [
  {
   "cell_type": "code",
   "execution_count": 2,
   "id": "43cd833e-410e-42f2-ae6f-b78984ac39a9",
   "metadata": {},
   "outputs": [],
   "source": [
    "#import dependency\n",
    "import os\n",
    "import csv\n",
    "csvpath = os.path.join('..', 'Resources', 'election_data.csv')"
   ]
  },
  {
   "cell_type": "code",
   "execution_count": null,
   "id": "df107b43-5648-4f37-974c-083251d9cd4e",
   "metadata": {},
   "outputs": [],
   "source": []
  }
 ],
 "metadata": {
  "kernelspec": {
   "display_name": "Python 3",
   "language": "python",
   "name": "python3"
  },
  "language_info": {
   "codemirror_mode": {
    "name": "ipython",
    "version": 3
   },
   "file_extension": ".py",
   "mimetype": "text/x-python",
   "name": "python",
   "nbconvert_exporter": "python",
   "pygments_lexer": "ipython3",
   "version": "3.8.8"
  }
 },
 "nbformat": 4,
 "nbformat_minor": 5
}
