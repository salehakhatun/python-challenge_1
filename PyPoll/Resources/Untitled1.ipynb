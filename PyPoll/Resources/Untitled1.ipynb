{
 "cells": [
  {
   "cell_type": "code",
   "execution_count": 2,
   "id": "43cd833e-410e-42f2-ae6f-b78984ac39a9",
   "metadata": {},
   "outputs": [],
   "source": [
    "#import dependency\n",
    "import os\n",
    "import csv\n",
    "csvpath = os.path.join('..', 'Resources', 'election_data.csv')"
   ]
  },
  {
   "cell_type": "code",
   "execution_count": 5,
   "id": "df107b43-5648-4f37-974c-083251d9cd4e",
   "metadata": {},
   "outputs": [
    {
     "name": "stdout",
     "output_type": "stream",
     "text": [
      "Election Results\n",
      "------------------------------------\n",
      "Total Votes: 3521001\n",
      "------------------------------------\n",
      "Khan: 63.000% (2218231)\n",
      "Correy: 20.000% (704200)\n",
      "Li: 14.000% (492940)\n",
      "O'Tooley: 3.000% (105630)\n",
      "------------------------------------\n",
      "Winner: Khan\n",
      "------------------------------------\n"
     ]
    }
   ],
   "source": [
    "# List of Variables\n",
    "\n",
    "Voter = []\n",
    "County = []\n",
    "Candidate = []\n",
    "Name_Of_Candidate = {}\n",
    "Percent_Candidate = {}\n",
    "total_vote = 0\n",
    "winner = 0\n",
    "\n",
    "\n",
    "with open(csvpath, newline = \"\") as pypoll:\n",
    "    csvreader = csv.reader(pypoll, delimiter = \",\")\n",
    "\n",
    "    csv_header = next(csvreader)\n",
    "   \n",
    "    for row in csvreader:\n",
    "        \n",
    "        Voter.append(row[0])\n",
    "        County.append(row[1])\n",
    "        Candidate.append(row[2])\n",
    "       \n",
    "        total_vote = total_vote + 1\n",
    "        if row[2] in Name_Of_Candidate.keys():\n",
    "            Name_Of_Candidate[row[2]] = Name_Of_Candidate[row[2]] + 1\n",
    "        else:\n",
    "            Name_Of_Candidate[row[2]] = 1\n",
    "    \n",
    "    for row[2], value in Name_Of_Candidate.items():\n",
    "       \n",
    "        Percent_Candidate[row[2]] = format((value/total_vote) * 100, \".3f\")\n",
    "        \n",
    "        \n",
    "\n",
    "    for row[2] in Name_Of_Candidate.keys():\n",
    "        if Name_Of_Candidate[row[2]] > winner:\n",
    "            Winner = row[2]\n",
    "            winner = Name_Of_Candidate[row[2]]\n",
    "\n",
    "# print solutions\n",
    "\n",
    "    print(\"Election Results\")\n",
    "    print(\"------------------------------------\")\n",
    "    print(f\"Total Votes: {total_vote}\")\n",
    "    print(\"------------------------------------\")\n",
    "    for row[2], value in Name_Of_Candidate.items():\n",
    "        print(f\"{row[2]}: {Percent_Candidate[row[2]]}% ({int(value)})\")\n",
    "    print(\"------------------------------------\")\n",
    "    print(f\"Winner: {Winner}\")\n",
    "    print(\"------------------------------------\")\n",
    "\n",
    "# write pypoll in text\n",
    "\n",
    "with open(\"csvpath.text\", \"w\", newline = \"\") as text:\n",
    "    text.write(\"\\n\")\n",
    "    text.write(\"Election Results\\n\")\n",
    "    text.write(\"------------------------\\n\")\n",
    "    text.write(f\"Total Votes: {total_vote}\\n\")\n",
    "    text.write(\"------------------------------------\\n\")\n",
    "    for row[2], value in Name_Of_Candidate.items():\n",
    "        text.write(f\"{row[2]}: {Percent_Candidate[row[2]]}% ({int(value)})\\n\")\n",
    "    text.write(\"------------------------------------\\n\")\n",
    "    text.write(f\"Winner: {Winner}\\n\")\n",
    "    text.write(\"------------------------------------\\n\")"
   ]
  },
  {
   "cell_type": "code",
   "execution_count": null,
   "id": "8c7dc02f-ecde-49f5-ae22-152d8bbe9ea1",
   "metadata": {},
   "outputs": [],
   "source": []
  }
 ],
 "metadata": {
  "kernelspec": {
   "display_name": "Python 3",
   "language": "python",
   "name": "python3"
  },
  "language_info": {
   "codemirror_mode": {
    "name": "ipython",
    "version": 3
   },
   "file_extension": ".py",
   "mimetype": "text/x-python",
   "name": "python",
   "nbconvert_exporter": "python",
   "pygments_lexer": "ipython3",
   "version": "3.8.8"
  }
 },
 "nbformat": 4,
 "nbformat_minor": 5
}
